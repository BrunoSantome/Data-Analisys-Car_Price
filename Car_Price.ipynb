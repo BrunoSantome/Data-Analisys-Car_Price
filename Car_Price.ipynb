{
  "cells": [
    {
      "cell_type": "markdown",
      "source": [
        "# Autor:\n",
        "\n",
        "\n",
        "*   Bruno Santome Antolín ⏩ 100405889"
      ],
      "metadata": {
        "id": "x9HA9DMvyVM0"
      }
    },
    {
      "cell_type": "markdown",
      "source": [
        "#Análisis de regresión del precio de los coches"
      ],
      "metadata": {
        "id": "btcB14T9yXsQ"
      }
    },
    {
      "cell_type": "markdown",
      "metadata": {
        "id": "P4Y9M2SIpmcT"
      },
      "source": [
        "Carga de fichero y de Librerias"
      ]
    },
    {
      "cell_type": "code",
      "execution_count": 638,
      "metadata": {
        "id": "-WTg3942Umb2",
        "colab": {
          "base_uri": "https://localhost:8080/"
        },
        "outputId": "588d6dba-a0ed-4a1a-d744-5c311ad7aaf8"
      },
      "outputs": [
        {
          "output_type": "stream",
          "name": "stdout",
          "text": [
            "Drive already mounted at /content/drive; to attempt to forcibly remount, call drive.mount(\"/content/drive\", force_remount=True).\n"
          ]
        }
      ],
      "source": [
        "from google.colab import drive\n",
        "drive.mount('/content/drive')\n"
      ]
    },
    {
      "cell_type": "code",
      "execution_count": 639,
      "metadata": {
        "id": "GEKqdEtFUwp5",
        "colab": {
          "base_uri": "https://localhost:8080/"
        },
        "outputId": "e95a5daa-84fb-48ff-df24-e8809f34744a"
      },
      "outputs": [
        {
          "output_type": "stream",
          "name": "stdout",
          "text": [
            "The rpy2.ipython extension is already loaded. To reload it, use:\n",
            "  %reload_ext rpy2.ipython\n"
          ]
        }
      ],
      "source": [
        "%load_ext rpy2.ipython"
      ]
    },
    {
      "cell_type": "code",
      "execution_count": 640,
      "metadata": {
        "id": "ffhJ2GeuVA9E"
      },
      "outputs": [],
      "source": [
        "%%R\n",
        "lib_loc <- \"/content/drive/MyDrive/Datos/r-lib\""
      ]
    },
    {
      "cell_type": "code",
      "execution_count": 641,
      "metadata": {
        "id": "5dQ1ZsvTwLoU"
      },
      "outputs": [],
      "source": [
        "%%R\n",
        "#Carga datos de un fichero\n",
        "dfMedidas <- read.csv(\"/content/drive/MyDrive/AnalisisDatos/Datos/car_price_prediction.csv\", stringsAsFactors=TRUE)\n",
        "dataset2<- read.csv(\"/content/drive/MyDrive/AnalisisDatos/Datos/car_price_prediction.csv\",stringsAsFactors=TRUE)\n",
        "\n"
      ]
    },
    {
      "cell_type": "markdown",
      "source": [
        "# Descripción de los datos"
      ],
      "metadata": {
        "id": "3fz2pziR1xhO"
      }
    },
    {
      "cell_type": "code",
      "source": [
        "%%R\n",
        "head(dfMedidas)"
      ],
      "metadata": {
        "colab": {
          "base_uri": "https://localhost:8080/"
        },
        "id": "vV-Tozyf0w17",
        "outputId": "fbf1fd40-2082-4dcc-b056-4c10ef788643"
      },
      "execution_count": 642,
      "outputs": [
        {
          "output_type": "stream",
          "name": "stdout",
          "text": [
            "        ID Price Levy Manufacturer    Model Prod..year  Category\n",
            "1 45654403 13328 1399        LEXUS   RX 450       2010      Jeep\n",
            "2 44731507 16621 1018    CHEVROLET  Equinox       2011      Jeep\n",
            "3 45774419  8467    -        HONDA      FIT       2006 Hatchback\n",
            "4 45769185  3607  862         FORD   Escape       2011      Jeep\n",
            "5 45809263 11726  446        HONDA      FIT       2014 Hatchback\n",
            "6 45802912 39493  891      HYUNDAI Santa FE       2016      Jeep\n",
            "  Leather.interior Fuel.type Engine.volume   Mileage Cylinders Gear.box.type\n",
            "1              Yes    Hybrid           3.5 186005 km         6     Automatic\n",
            "2               No    Petrol             3 192000 km         6     Tiptronic\n",
            "3               No    Petrol           1.3 200000 km         4      Variator\n",
            "4              Yes    Hybrid           2.5 168966 km         4     Automatic\n",
            "5              Yes    Petrol           1.3  91901 km         4     Automatic\n",
            "6              Yes    Diesel             2 160931 km         4     Automatic\n",
            "  Drive.wheels  Doors            Wheel  Color Airbags\n",
            "1          4x4 04-May       Left wheel Silver      12\n",
            "2          4x4 04-May       Left wheel  Black       8\n",
            "3        Front 04-May Right-hand drive  Black       2\n",
            "4          4x4 04-May       Left wheel  White       0\n",
            "5        Front 04-May       Left wheel Silver       4\n",
            "6        Front 04-May       Left wheel  White       4\n"
          ]
        }
      ]
    },
    {
      "cell_type": "code",
      "source": [
        "%R -o dfMedidas\n",
        "\n",
        "dfMedidas"
      ],
      "metadata": {
        "colab": {
          "base_uri": "https://localhost:8080/",
          "height": 488
        },
        "id": "8H5r_sVfbvXb",
        "outputId": "cdfa7a8d-5aa0-4c99-dc40-72b7a0fc31e3"
      },
      "execution_count": 643,
      "outputs": [
        {
          "output_type": "execute_result",
          "data": {
            "text/plain": [
              "             ID  Price  Levy  Manufacturer  Model  Prod..year  Category  \\\n",
              "1      45654403  13328   115            33   1271        2010         5   \n",
              "2      44731507  16621     5             9    654        2011         5   \n",
              "3      45774419   8467     1            22    690        2006         4   \n",
              "4      45769185   3607   513            17    660        2011         5   \n",
              "5      45809263  11726   367            22    690        2014         4   \n",
              "...         ...    ...   ...           ...    ...         ...       ...   \n",
              "19233  45798355   8467     1            37    448        1999         2   \n",
              "19234  45778856  15681   505            24   1339        2011        10   \n",
              "19235  45804997  26108   509            24   1451        2010         5   \n",
              "19236  45793526   5331    84             9    403        2007         5   \n",
              "19237  45813273    470   481            24   1339        2012        10   \n",
              "\n",
              "       Leather.interior  Fuel.type  Engine.volume  Mileage  Cylinders  \\\n",
              "1                     2          3             64     2839        6.0   \n",
              "2                     1          6             57     2961        6.0   \n",
              "3                     1          6             23     3141        4.0   \n",
              "4                     2          3             47     2414        4.0   \n",
              "5                     2          6             23     7397        4.0   \n",
              "...                 ...        ...            ...      ...        ...   \n",
              "19233                 2          1             38     4395        4.0   \n",
              "19234                 2          6             45     2215        4.0   \n",
              "19235                 2          2             37      639        4.0   \n",
              "19236                 2          2             37     5613        4.0   \n",
              "19237                 2          3             45     2858        4.0   \n",
              "\n",
              "       Gear.box.type  Drive.wheels  Doors  Wheel  Color  Airbags  \n",
              "1                  1             1      3      1     13       12  \n",
              "2                  3             1      3      1      2        8  \n",
              "3                  4             2      3      2      2        2  \n",
              "4                  1             1      3      1     15        0  \n",
              "5                  1             2      3      1     13        4  \n",
              "...              ...           ...    ...    ...    ...      ...  \n",
              "19233              2             3      2      1     13        5  \n",
              "19234              3             2      3      1     12        8  \n",
              "19235              1             2      3      1      8        4  \n",
              "19236              1             2      3      1      2        4  \n",
              "19237              1             2      3      1     15       12  \n",
              "\n",
              "[19237 rows x 18 columns]"
            ],
            "text/html": [
              "\n",
              "  <div id=\"df-228dda8c-2cf5-4670-ab1e-545d64e49e9a\">\n",
              "    <div class=\"colab-df-container\">\n",
              "      <div>\n",
              "<style scoped>\n",
              "    .dataframe tbody tr th:only-of-type {\n",
              "        vertical-align: middle;\n",
              "    }\n",
              "\n",
              "    .dataframe tbody tr th {\n",
              "        vertical-align: top;\n",
              "    }\n",
              "\n",
              "    .dataframe thead th {\n",
              "        text-align: right;\n",
              "    }\n",
              "</style>\n",
              "<table border=\"1\" class=\"dataframe\">\n",
              "  <thead>\n",
              "    <tr style=\"text-align: right;\">\n",
              "      <th></th>\n",
              "      <th>ID</th>\n",
              "      <th>Price</th>\n",
              "      <th>Levy</th>\n",
              "      <th>Manufacturer</th>\n",
              "      <th>Model</th>\n",
              "      <th>Prod..year</th>\n",
              "      <th>Category</th>\n",
              "      <th>Leather.interior</th>\n",
              "      <th>Fuel.type</th>\n",
              "      <th>Engine.volume</th>\n",
              "      <th>Mileage</th>\n",
              "      <th>Cylinders</th>\n",
              "      <th>Gear.box.type</th>\n",
              "      <th>Drive.wheels</th>\n",
              "      <th>Doors</th>\n",
              "      <th>Wheel</th>\n",
              "      <th>Color</th>\n",
              "      <th>Airbags</th>\n",
              "    </tr>\n",
              "  </thead>\n",
              "  <tbody>\n",
              "    <tr>\n",
              "      <th>1</th>\n",
              "      <td>45654403</td>\n",
              "      <td>13328</td>\n",
              "      <td>115</td>\n",
              "      <td>33</td>\n",
              "      <td>1271</td>\n",
              "      <td>2010</td>\n",
              "      <td>5</td>\n",
              "      <td>2</td>\n",
              "      <td>3</td>\n",
              "      <td>64</td>\n",
              "      <td>2839</td>\n",
              "      <td>6.0</td>\n",
              "      <td>1</td>\n",
              "      <td>1</td>\n",
              "      <td>3</td>\n",
              "      <td>1</td>\n",
              "      <td>13</td>\n",
              "      <td>12</td>\n",
              "    </tr>\n",
              "    <tr>\n",
              "      <th>2</th>\n",
              "      <td>44731507</td>\n",
              "      <td>16621</td>\n",
              "      <td>5</td>\n",
              "      <td>9</td>\n",
              "      <td>654</td>\n",
              "      <td>2011</td>\n",
              "      <td>5</td>\n",
              "      <td>1</td>\n",
              "      <td>6</td>\n",
              "      <td>57</td>\n",
              "      <td>2961</td>\n",
              "      <td>6.0</td>\n",
              "      <td>3</td>\n",
              "      <td>1</td>\n",
              "      <td>3</td>\n",
              "      <td>1</td>\n",
              "      <td>2</td>\n",
              "      <td>8</td>\n",
              "    </tr>\n",
              "    <tr>\n",
              "      <th>3</th>\n",
              "      <td>45774419</td>\n",
              "      <td>8467</td>\n",
              "      <td>1</td>\n",
              "      <td>22</td>\n",
              "      <td>690</td>\n",
              "      <td>2006</td>\n",
              "      <td>4</td>\n",
              "      <td>1</td>\n",
              "      <td>6</td>\n",
              "      <td>23</td>\n",
              "      <td>3141</td>\n",
              "      <td>4.0</td>\n",
              "      <td>4</td>\n",
              "      <td>2</td>\n",
              "      <td>3</td>\n",
              "      <td>2</td>\n",
              "      <td>2</td>\n",
              "      <td>2</td>\n",
              "    </tr>\n",
              "    <tr>\n",
              "      <th>4</th>\n",
              "      <td>45769185</td>\n",
              "      <td>3607</td>\n",
              "      <td>513</td>\n",
              "      <td>17</td>\n",
              "      <td>660</td>\n",
              "      <td>2011</td>\n",
              "      <td>5</td>\n",
              "      <td>2</td>\n",
              "      <td>3</td>\n",
              "      <td>47</td>\n",
              "      <td>2414</td>\n",
              "      <td>4.0</td>\n",
              "      <td>1</td>\n",
              "      <td>1</td>\n",
              "      <td>3</td>\n",
              "      <td>1</td>\n",
              "      <td>15</td>\n",
              "      <td>0</td>\n",
              "    </tr>\n",
              "    <tr>\n",
              "      <th>5</th>\n",
              "      <td>45809263</td>\n",
              "      <td>11726</td>\n",
              "      <td>367</td>\n",
              "      <td>22</td>\n",
              "      <td>690</td>\n",
              "      <td>2014</td>\n",
              "      <td>4</td>\n",
              "      <td>2</td>\n",
              "      <td>6</td>\n",
              "      <td>23</td>\n",
              "      <td>7397</td>\n",
              "      <td>4.0</td>\n",
              "      <td>1</td>\n",
              "      <td>2</td>\n",
              "      <td>3</td>\n",
              "      <td>1</td>\n",
              "      <td>13</td>\n",
              "      <td>4</td>\n",
              "    </tr>\n",
              "    <tr>\n",
              "      <th>...</th>\n",
              "      <td>...</td>\n",
              "      <td>...</td>\n",
              "      <td>...</td>\n",
              "      <td>...</td>\n",
              "      <td>...</td>\n",
              "      <td>...</td>\n",
              "      <td>...</td>\n",
              "      <td>...</td>\n",
              "      <td>...</td>\n",
              "      <td>...</td>\n",
              "      <td>...</td>\n",
              "      <td>...</td>\n",
              "      <td>...</td>\n",
              "      <td>...</td>\n",
              "      <td>...</td>\n",
              "      <td>...</td>\n",
              "      <td>...</td>\n",
              "      <td>...</td>\n",
              "    </tr>\n",
              "    <tr>\n",
              "      <th>19233</th>\n",
              "      <td>45798355</td>\n",
              "      <td>8467</td>\n",
              "      <td>1</td>\n",
              "      <td>37</td>\n",
              "      <td>448</td>\n",
              "      <td>1999</td>\n",
              "      <td>2</td>\n",
              "      <td>2</td>\n",
              "      <td>1</td>\n",
              "      <td>38</td>\n",
              "      <td>4395</td>\n",
              "      <td>4.0</td>\n",
              "      <td>2</td>\n",
              "      <td>3</td>\n",
              "      <td>2</td>\n",
              "      <td>1</td>\n",
              "      <td>13</td>\n",
              "      <td>5</td>\n",
              "    </tr>\n",
              "    <tr>\n",
              "      <th>19234</th>\n",
              "      <td>45778856</td>\n",
              "      <td>15681</td>\n",
              "      <td>505</td>\n",
              "      <td>24</td>\n",
              "      <td>1339</td>\n",
              "      <td>2011</td>\n",
              "      <td>10</td>\n",
              "      <td>2</td>\n",
              "      <td>6</td>\n",
              "      <td>45</td>\n",
              "      <td>2215</td>\n",
              "      <td>4.0</td>\n",
              "      <td>3</td>\n",
              "      <td>2</td>\n",
              "      <td>3</td>\n",
              "      <td>1</td>\n",
              "      <td>12</td>\n",
              "      <td>8</td>\n",
              "    </tr>\n",
              "    <tr>\n",
              "      <th>19235</th>\n",
              "      <td>45804997</td>\n",
              "      <td>26108</td>\n",
              "      <td>509</td>\n",
              "      <td>24</td>\n",
              "      <td>1451</td>\n",
              "      <td>2010</td>\n",
              "      <td>5</td>\n",
              "      <td>2</td>\n",
              "      <td>2</td>\n",
              "      <td>37</td>\n",
              "      <td>639</td>\n",
              "      <td>4.0</td>\n",
              "      <td>1</td>\n",
              "      <td>2</td>\n",
              "      <td>3</td>\n",
              "      <td>1</td>\n",
              "      <td>8</td>\n",
              "      <td>4</td>\n",
              "    </tr>\n",
              "    <tr>\n",
              "      <th>19236</th>\n",
              "      <td>45793526</td>\n",
              "      <td>5331</td>\n",
              "      <td>84</td>\n",
              "      <td>9</td>\n",
              "      <td>403</td>\n",
              "      <td>2007</td>\n",
              "      <td>5</td>\n",
              "      <td>2</td>\n",
              "      <td>2</td>\n",
              "      <td>37</td>\n",
              "      <td>5613</td>\n",
              "      <td>4.0</td>\n",
              "      <td>1</td>\n",
              "      <td>2</td>\n",
              "      <td>3</td>\n",
              "      <td>1</td>\n",
              "      <td>2</td>\n",
              "      <td>4</td>\n",
              "    </tr>\n",
              "    <tr>\n",
              "      <th>19237</th>\n",
              "      <td>45813273</td>\n",
              "      <td>470</td>\n",
              "      <td>481</td>\n",
              "      <td>24</td>\n",
              "      <td>1339</td>\n",
              "      <td>2012</td>\n",
              "      <td>10</td>\n",
              "      <td>2</td>\n",
              "      <td>3</td>\n",
              "      <td>45</td>\n",
              "      <td>2858</td>\n",
              "      <td>4.0</td>\n",
              "      <td>1</td>\n",
              "      <td>2</td>\n",
              "      <td>3</td>\n",
              "      <td>1</td>\n",
              "      <td>15</td>\n",
              "      <td>12</td>\n",
              "    </tr>\n",
              "  </tbody>\n",
              "</table>\n",
              "<p>19237 rows × 18 columns</p>\n",
              "</div>\n",
              "      <button class=\"colab-df-convert\" onclick=\"convertToInteractive('df-228dda8c-2cf5-4670-ab1e-545d64e49e9a')\"\n",
              "              title=\"Convert this dataframe to an interactive table.\"\n",
              "              style=\"display:none;\">\n",
              "        \n",
              "  <svg xmlns=\"http://www.w3.org/2000/svg\" height=\"24px\"viewBox=\"0 0 24 24\"\n",
              "       width=\"24px\">\n",
              "    <path d=\"M0 0h24v24H0V0z\" fill=\"none\"/>\n",
              "    <path d=\"M18.56 5.44l.94 2.06.94-2.06 2.06-.94-2.06-.94-.94-2.06-.94 2.06-2.06.94zm-11 1L8.5 8.5l.94-2.06 2.06-.94-2.06-.94L8.5 2.5l-.94 2.06-2.06.94zm10 10l.94 2.06.94-2.06 2.06-.94-2.06-.94-.94-2.06-.94 2.06-2.06.94z\"/><path d=\"M17.41 7.96l-1.37-1.37c-.4-.4-.92-.59-1.43-.59-.52 0-1.04.2-1.43.59L10.3 9.45l-7.72 7.72c-.78.78-.78 2.05 0 2.83L4 21.41c.39.39.9.59 1.41.59.51 0 1.02-.2 1.41-.59l7.78-7.78 2.81-2.81c.8-.78.8-2.07 0-2.86zM5.41 20L4 18.59l7.72-7.72 1.47 1.35L5.41 20z\"/>\n",
              "  </svg>\n",
              "      </button>\n",
              "      \n",
              "  <style>\n",
              "    .colab-df-container {\n",
              "      display:flex;\n",
              "      flex-wrap:wrap;\n",
              "      gap: 12px;\n",
              "    }\n",
              "\n",
              "    .colab-df-convert {\n",
              "      background-color: #E8F0FE;\n",
              "      border: none;\n",
              "      border-radius: 50%;\n",
              "      cursor: pointer;\n",
              "      display: none;\n",
              "      fill: #1967D2;\n",
              "      height: 32px;\n",
              "      padding: 0 0 0 0;\n",
              "      width: 32px;\n",
              "    }\n",
              "\n",
              "    .colab-df-convert:hover {\n",
              "      background-color: #E2EBFA;\n",
              "      box-shadow: 0px 1px 2px rgba(60, 64, 67, 0.3), 0px 1px 3px 1px rgba(60, 64, 67, 0.15);\n",
              "      fill: #174EA6;\n",
              "    }\n",
              "\n",
              "    [theme=dark] .colab-df-convert {\n",
              "      background-color: #3B4455;\n",
              "      fill: #D2E3FC;\n",
              "    }\n",
              "\n",
              "    [theme=dark] .colab-df-convert:hover {\n",
              "      background-color: #434B5C;\n",
              "      box-shadow: 0px 1px 3px 1px rgba(0, 0, 0, 0.15);\n",
              "      filter: drop-shadow(0px 1px 2px rgba(0, 0, 0, 0.3));\n",
              "      fill: #FFFFFF;\n",
              "    }\n",
              "  </style>\n",
              "\n",
              "      <script>\n",
              "        const buttonEl =\n",
              "          document.querySelector('#df-228dda8c-2cf5-4670-ab1e-545d64e49e9a button.colab-df-convert');\n",
              "        buttonEl.style.display =\n",
              "          google.colab.kernel.accessAllowed ? 'block' : 'none';\n",
              "\n",
              "        async function convertToInteractive(key) {\n",
              "          const element = document.querySelector('#df-228dda8c-2cf5-4670-ab1e-545d64e49e9a');\n",
              "          const dataTable =\n",
              "            await google.colab.kernel.invokeFunction('convertToInteractive',\n",
              "                                                     [key], {});\n",
              "          if (!dataTable) return;\n",
              "\n",
              "          const docLinkHtml = 'Like what you see? Visit the ' +\n",
              "            '<a target=\"_blank\" href=https://colab.research.google.com/notebooks/data_table.ipynb>data table notebook</a>'\n",
              "            + ' to learn more about interactive tables.';\n",
              "          element.innerHTML = '';\n",
              "          dataTable['output_type'] = 'display_data';\n",
              "          await google.colab.output.renderOutput(dataTable, element);\n",
              "          const docLink = document.createElement('div');\n",
              "          docLink.innerHTML = docLinkHtml;\n",
              "          element.appendChild(docLink);\n",
              "        }\n",
              "      </script>\n",
              "    </div>\n",
              "  </div>\n",
              "  "
            ]
          },
          "metadata": {},
          "execution_count": 643
        }
      ]
    },
    {
      "cell_type": "markdown",
      "source": [
        "Como vemos el dataset tiene un total de 19237 filas distintas y 18 columnas. \n",
        "Cada fila representa los datos de un coche y cada una de las columnas representa un atributo. Vamos a ver que significa cada uno de ellos:\n",
        "\n",
        "ID: El identificador del coche\n",
        "\n",
        "Price: Nuestra variable objetivo, el precio asignado a el coche \n",
        "\n",
        "Levy:\n",
        "\n",
        "Manufacturer: El nombre de la empresa fabricante\n",
        "\n",
        "Model: El modelo del coche\n",
        "\n",
        "Prod..year: EL año de producción del coche\n",
        "\n",
        "Category: A que categoría pertenece ( no tengo claro cuales son) \n",
        "\n",
        "Leather.interior: Si el interior del coche es de cuero\n",
        "\n",
        "Fuel.type: el tipo de combustible que necesita el vehículo\n",
        "\n",
        "Engine.volume: El volumen del motor\t\n",
        "\n",
        "Cylinders: La cantidad de cilindros que contiene el coche\n",
        "\n",
        "Mileage: El número de kilometros que tiene el coche\n",
        "\n",
        "Gear.box.type: El tipo de coche (Automático,...)\n",
        "\n",
        "Drive.wheels: Cuales son las ruedas de tracción del coche (4x4)/ (front) \n",
        "\n",
        "Doors: Cantdiad de puertas del coche\n",
        "\n",
        "Wheel: Donde esta situado el volante\n",
        "\n",
        "Color: El color del coche\n",
        "\n",
        "Airbags: El número de airbags que tiene el vehículo"
      ],
      "metadata": {
        "id": "nGevz-7cy5lr"
      }
    },
    {
      "cell_type": "markdown",
      "metadata": {
        "id": "etel6doZpxfc"
      },
      "source": [
        "# Análisis descriptivo\n",
        "\n",
        "Empezaremos análizando la variable Precio. "
      ]
    },
    {
      "cell_type": "code",
      "execution_count": 644,
      "metadata": {
        "id": "EVK5Iyb6Yd1A",
        "colab": {
          "base_uri": "https://localhost:8080/"
        },
        "outputId": "a72ad7a0-5020-4d47-d8b8-5602870d9ce9"
      },
      "outputs": [
        {
          "output_type": "stream",
          "name": "stdout",
          "text": [
            "   vars     n     mean       sd median trimmed      mad min      max    range\n",
            "X1    1 19237 18555.93 190581.3  13172 14153.4 12321.89   1 26307500 26307499\n",
            "     skew kurtosis      se\n",
            "X1 136.45 18817.67 1374.08\n"
          ]
        }
      ],
      "source": [
        "%%R\n",
        "if (!require(\"psych\", lib.loc = lib_loc)) install.packages(\"psych\", lib = lib_loc)\n",
        "library(psych, lib.loc = lib_loc)\n",
        "\n",
        "describe(dfMedidas$Price)"
      ]
    },
    {
      "cell_type": "markdown",
      "source": [
        "Vemos que la media esta en 18555 euros pero el maximo es muy superior: 26307500 euros. Esto indica que puede ser un dato átipico.\n",
        "Vamos a representar a ver que obtenemos. \n"
      ],
      "metadata": {
        "id": "r574F0Oo6lvL"
      }
    },
    {
      "cell_type": "code",
      "execution_count": 645,
      "metadata": {
        "id": "MVni5ahVwRra",
        "colab": {
          "base_uri": "https://localhost:8080/",
          "height": 497
        },
        "outputId": "fdce0bcb-63ee-48fb-e8a1-c118bb5bcb13"
      },
      "outputs": [
        {
          "output_type": "display_data",
          "data": {
            "image/png": "[encoded data removed]"
          },
          "metadata": {}
        }
      ],
      "source": [
        "%%R\n",
        "hist(dfMedidas$Price)"
      ]
    },
    {
      "cell_type": "markdown",
      "source": [
        "Vemos que es imposible representar, debido a los datos outliers. \n",
        "Hay que encontrarlos y eliminarlos. "
      ],
      "metadata": {
        "id": "67I0Zb8W65_q"
      }
    },
    {
      "cell_type": "markdown",
      "metadata": {
        "id": "aveNSf5dp8L1"
      },
      "source": [
        "# Encontrar outliers"
      ]
    },
    {
      "cell_type": "markdown",
      "source": [
        "Primero quitamos el outlier del dato máximo, que por cierto es un vagon de tren. "
      ],
      "metadata": {
        "id": "PRbbR1-q7D_0"
      }
    },
    {
      "cell_type": "code",
      "execution_count": 646,
      "metadata": {
        "id": "bjulbXfU1JR8"
      },
      "outputs": [],
      "source": [
        "%%R\n",
        "#Quitamos el outlier del maximo\n",
        "dfMedidas<-dfMedidas[!(dfMedidas$Price == 26307500),]"
      ]
    },
    {
      "cell_type": "code",
      "source": [
        "%%R\n",
        "#Dato curisoso ==> es un vagon de tren\n",
        "dataset2[(dataset2$Price == 26307500),]"
      ],
      "metadata": {
        "colab": {
          "base_uri": "https://localhost:8080/"
        },
        "id": "qpTutCHF6cRr",
        "outputId": "aeb50bb3-9132-46b4-d17c-877a6141f702"
      },
      "execution_count": 647,
      "outputs": [
        {
          "output_type": "stream",
          "name": "stdout",
          "text": [
            "            ID    Price Levy Manufacturer Model Prod..year    Category\n",
            "16984 45812886 26307500    -         OPEL Combo       1999 Goods wagon\n",
            "      Leather.interior Fuel.type Engine.volume  Mileage Cylinders Gear.box.type\n",
            "16984               No    Diesel           1.7 99999 km         4        Manual\n",
            "      Drive.wheels  Doors      Wheel Color Airbags\n",
            "16984        Front 02-Mar Left wheel  Blue       0\n"
          ]
        }
      ]
    },
    {
      "cell_type": "code",
      "execution_count": 648,
      "metadata": {
        "id": "hUnsPsrg3tiR",
        "colab": {
          "base_uri": "https://localhost:8080/",
          "height": 497
        },
        "outputId": "0e6236dd-2820-429d-ef2a-b6b5b8170e05"
      },
      "outputs": [
        {
          "output_type": "display_data",
          "data": {
            "image/png": "[encoded data removed]"
          },
          "metadata": {}
        }
      ],
      "source": [
        "%%R\n",
        "df2 <-dfMedidas\n",
        "boxplot(df2$Price)"
      ]
    },
    {
      "cell_type": "markdown",
      "source": [
        "Con ese outlier menos, vemos en el boxplot superior que siguen habiendo varios datos que impiden la correcta representación de la variable Precio. \n",
        "\n",
        "Establecemos un limite inferior del 0.01 y un limite superior del 0.99 para acotar nuestros datos, evitando posibles outliers. \n",
        "Es decir, los datos van a estar comprendidos entre 45 euros y 84675 euros. "
      ],
      "metadata": {
        "id": "sqt23qJj7K4X"
      }
    },
    {
      "cell_type": "code",
      "execution_count": 649,
      "metadata": {
        "id": "vsTgXqvl36J6",
        "colab": {
          "base_uri": "https://localhost:8080/"
        },
        "outputId": "6bc31590-0797-4a40-d670-0d3b996a78ce"
      },
      "outputs": [
        {
          "output_type": "stream",
          "name": "stdout",
          "text": [
            "1% \n",
            "45 \n"
          ]
        }
      ],
      "source": [
        "%%R\n",
        "\n",
        "lower_bound <- quantile(df2$Price, 0.01)\n",
        "lower_bound"
      ]
    },
    {
      "cell_type": "code",
      "execution_count": 650,
      "metadata": {
        "id": "8Gr1abpakTgi",
        "colab": {
          "base_uri": "https://localhost:8080/"
        },
        "outputId": "14348ad8-ff13-49f6-b2eb-acd4a3c05092"
      },
      "outputs": [
        {
          "output_type": "stream",
          "name": "stdout",
          "text": [
            "  99% \n",
            "84675 \n"
          ]
        }
      ],
      "source": [
        "%%R\n",
        "upper_bound <- quantile(df2$Price, 0.99)\n",
        "upper_bound"
      ]
    },
    {
      "cell_type": "code",
      "execution_count": 651,
      "metadata": {
        "id": "nQqSbM9MkvUg"
      },
      "outputs": [],
      "source": [
        "%%R\n",
        "\n",
        "dfoutliers <- which(df2$Price < lower_bound | df2$Price > upper_bound)\n",
        "df3 <- df2[dfoutliers, \"Price\"]\n",
        "dfMedidas <- df2[!(df2$Price %in% df3),] \n",
        "\n"
      ]
    },
    {
      "cell_type": "markdown",
      "source": [
        "Representando nuestro conjunto de datos acotados, vemos una gran mejora en la representación de la variable objetivo. Ahora podemos ver que una gran cantidad de vehìculos tienen un precio muy bajo. \n",
        "Tambien se puede ver que hay pocos coches con precios superiores a 40 000 euros."
      ],
      "metadata": {
        "id": "VqMbKDvh7pN3"
      }
    },
    {
      "cell_type": "code",
      "execution_count": 652,
      "metadata": {
        "id": "JiVeSqyhmb_k",
        "colab": {
          "base_uri": "https://localhost:8080/",
          "height": 497
        },
        "outputId": "917b7a88-8287-4ff1-f20b-26857704788e"
      },
      "outputs": [
        {
          "output_type": "display_data",
          "data": {
            "image/png": "[encoded data removed]"
          },
          "metadata": {}
        }
      ],
      "source": [
        "%%R\n",
        "hist(dfMedidas$Price)\n"
      ]
    },
    {
      "cell_type": "code",
      "execution_count": 653,
      "metadata": {
        "id": "7uk9ndyMpjcz",
        "colab": {
          "base_uri": "https://localhost:8080/",
          "height": 497
        },
        "outputId": "db5b8d68-bdd6-4d81-dad0-eed80cdc0f96"
      },
      "outputs": [
        {
          "output_type": "display_data",
          "data": {
            "image/png": "[encoded data removed]"
          },
          "metadata": {}
        }
      ],
      "source": [
        "%%R \n",
        "boxplot(dfMedidas$Price)\n"
      ]
    },
    {
      "cell_type": "markdown",
      "source": [
        "Con este boxplot vemos tambien que la representación de la variable a mejorado en comparación al anterior boxplot. Parece que siguen habiendo muchos datos atipicos, pero hay que investigar más"
      ],
      "metadata": {
        "id": "x6sggPvp8CSc"
      }
    },
    {
      "cell_type": "code",
      "execution_count": 654,
      "metadata": {
        "id": "212N20bwAG7x",
        "colab": {
          "base_uri": "https://localhost:8080/"
        },
        "outputId": "f72f674d-4b4e-43d6-c8a2-7713015fe30f"
      },
      "outputs": [
        {
          "output_type": "stream",
          "name": "stdout",
          "text": [
            "   Min. 1st Qu.  Median    Mean 3rd Qu.    Max. \n",
            "     45    5488   13172   16284   21953   84675 \n"
          ]
        }
      ],
      "source": [
        "%%R\n",
        "summary(dfMedidas$Price)"
      ]
    },
    {
      "cell_type": "markdown",
      "source": [
        "Vamos a ver la tendencía de el atributo a seguir una distribución normal. "
      ],
      "metadata": {
        "id": "JSL6cqoC8bpc"
      }
    },
    {
      "cell_type": "code",
      "execution_count": 655,
      "metadata": {
        "id": "ajjrAXqeFbOW",
        "colab": {
          "base_uri": "https://localhost:8080/",
          "height": 497
        },
        "outputId": "9e0b8393-1046-4247-d051-3d3b370a4b70"
      },
      "outputs": [
        {
          "output_type": "display_data",
          "data": {
            "image/png": "[encoded data removed]"
          },
          "metadata": {}
        }
      ],
      "source": [
        "%%R\n",
        "if (!require(\"rcompanion\", lib.loc = lib_loc)) install.packages(\"rcompanion\", lib = lib_loc)\n",
        "library(rcompanion, lib.loc = lib_loc)\n",
        "\n",
        "plotNormalHistogram(dfMedidas$Price)"
      ]
    },
    {
      "cell_type": "code",
      "execution_count": 656,
      "metadata": {
        "id": "zfCC_UACxvgv",
        "colab": {
          "base_uri": "https://localhost:8080/",
          "height": 497
        },
        "outputId": "15f06183-b2ed-4c1d-a7e1-725f7503e601"
      },
      "outputs": [
        {
          "output_type": "display_data",
          "data": {
            "image/png": "[encoded data removed]"
          },
          "metadata": {}
        }
      ],
      "source": [
        "%%R\n",
        "qqnorm(dfMedidas$Price, pch = 15, col = \"#00AAFF\")\n",
        "qqline(dfMedidas$Price, col = \"red\")\n"
      ]
    },
    {
      "cell_type": "markdown",
      "source": [
        "Concluimos que el atributo \"Precio\" no parece seguir una distribución normal."
      ],
      "metadata": {
        "id": "ccPcZngA8h8E"
      }
    },
    {
      "cell_type": "markdown",
      "source": [
        "Claramente hay datos átipicos. "
      ],
      "metadata": {
        "id": "FH_qSBplIHRJ"
      }
    },
    {
      "cell_type": "markdown",
      "source": [
        "#Eliminar columnas y transformación de datos"
      ],
      "metadata": {
        "id": "eix-4NVX6hJD"
      }
    },
    {
      "cell_type": "markdown",
      "source": [
        "Eliminamos las columnas ID porque es uniforme a traves de toda la tabla de datos luego no nos aporta información"
      ],
      "metadata": {
        "id": "K46kpCY--11_"
      }
    },
    {
      "cell_type": "code",
      "source": [
        "%%R\n",
        "\n",
        "dfMedidas <- dfMedidas[,!names(dfMedidas) %in% c(\"ID\")]\n"
      ],
      "metadata": {
        "id": "DmzLziLZ6mOm"
      },
      "execution_count": 657,
      "outputs": []
    },
    {
      "cell_type": "markdown",
      "source": [
        "Hay que limpiar la columna de Levy; quitar \"-\" de las celdas. Luego pasamos el atributo a númerico."
      ],
      "metadata": {
        "id": "sijpXJl4_JR8"
      }
    },
    {
      "cell_type": "code",
      "source": [
        "%%R\n",
        "dfMedidas[dfMedidas$Levy == \"-\", \"Levy\"]  <- NA\n",
        "dfMedidas$Levy <- as.numeric(dfMedidas$Levy)"
      ],
      "metadata": {
        "id": "Cglx2BcBsdUj"
      },
      "execution_count": 658,
      "outputs": []
    },
    {
      "cell_type": "markdown",
      "source": [
        "Pasamos a integers los doubles de la columna de cilindros."
      ],
      "metadata": {
        "id": "CSPXMsSB_W3Q"
      }
    },
    {
      "cell_type": "code",
      "source": [
        "%%R\n",
        "dfMedidas$Cylinders <- as.integer(dfMedidas$Cylinders)"
      ],
      "metadata": {
        "id": "Ht_WyHLDJJ51"
      },
      "execution_count": 659,
      "outputs": []
    },
    {
      "cell_type": "markdown",
      "source": [
        "Quitamos el charácter \"km\" de todas las columnas de Mileage"
      ],
      "metadata": {
        "id": "Ho95jqJk_Z4t"
      }
    },
    {
      "cell_type": "code",
      "source": [
        "%%R\n",
        "\n",
        "dfMedidas$Mileage<-gsub(\"km\",\"\",as.character(dfMedidas$Mileage))\n",
        "head(dfMedidas)"
      ],
      "metadata": {
        "id": "udp5y9oDGVs2",
        "colab": {
          "base_uri": "https://localhost:8080/"
        },
        "outputId": "7669ef52-4fc8-4a90-c270-72944e2803cc"
      },
      "execution_count": 660,
      "outputs": [
        {
          "output_type": "stream",
          "name": "stdout",
          "text": [
            "  Price Levy Manufacturer    Model Prod..year  Category Leather.interior\n",
            "1 13328  115        LEXUS   RX 450       2010      Jeep              Yes\n",
            "2 16621    5    CHEVROLET  Equinox       2011      Jeep               No\n",
            "3  8467   NA        HONDA      FIT       2006 Hatchback               No\n",
            "4  3607  513         FORD   Escape       2011      Jeep              Yes\n",
            "5 11726  367        HONDA      FIT       2014 Hatchback              Yes\n",
            "6 39493  529      HYUNDAI Santa FE       2016      Jeep              Yes\n",
            "  Fuel.type Engine.volume Mileage Cylinders Gear.box.type Drive.wheels  Doors\n",
            "1    Hybrid           3.5 186005          6     Automatic          4x4 04-May\n",
            "2    Petrol             3 192000          6     Tiptronic          4x4 04-May\n",
            "3    Petrol           1.3 200000          4      Variator        Front 04-May\n",
            "4    Hybrid           2.5 168966          4     Automatic          4x4 04-May\n",
            "5    Petrol           1.3  91901          4     Automatic        Front 04-May\n",
            "6    Diesel             2 160931          4     Automatic        Front 04-May\n",
            "             Wheel  Color Airbags\n",
            "1       Left wheel Silver      12\n",
            "2       Left wheel  Black       8\n",
            "3 Right-hand drive  Black       2\n",
            "4       Left wheel  White       0\n",
            "5       Left wheel Silver       4\n",
            "6       Left wheel  White       4\n"
          ]
        }
      ]
    },
    {
      "cell_type": "markdown",
      "source": [
        "Pasamos a integer toda la columna de Mileage"
      ],
      "metadata": {
        "id": "E_RYyBw__gYW"
      }
    },
    {
      "cell_type": "code",
      "source": [
        "%%R\n",
        "dfMedidas$Mileage = as.integer(dfMedidas$Mileage)\n",
        "typeof(dfMedidas$Mileage)"
      ],
      "metadata": {
        "id": "fCqBRWZ63cpI",
        "colab": {
          "base_uri": "https://localhost:8080/"
        },
        "outputId": "5bf49fd9-d001-48bf-dac1-cfd5809045b6"
      },
      "execution_count": 661,
      "outputs": [
        {
          "output_type": "stream",
          "name": "stdout",
          "text": [
            "[1] \"integer\"\n"
          ]
        }
      ]
    },
    {
      "cell_type": "markdown",
      "source": [
        "Al pasar a integer vamos  a evaluar como estan los datos en la columna Mileage. "
      ],
      "metadata": {
        "id": "61kUCnUTflty"
      }
    },
    {
      "cell_type": "markdown",
      "source": [
        "Hay muchos datos átipicos. "
      ],
      "metadata": {
        "id": "MJCDOGitfsp3"
      }
    },
    {
      "cell_type": "code",
      "source": [
        "%%R\n",
        "boxplot(dfMedidas$Mileage)"
      ],
      "metadata": {
        "colab": {
          "base_uri": "https://localhost:8080/",
          "height": 497
        },
        "id": "mxIcSFYGfrMc",
        "outputId": "ee04d7ee-6ba2-4929-c329-a97a4431f48a"
      },
      "execution_count": 662,
      "outputs": [
        {
          "output_type": "display_data",
          "data": {
            "image/png": "[encoded data removed]"
          },
          "metadata": {}
        }
      ]
    },
    {
      "cell_type": "markdown",
      "source": [
        "Para conseguir una representación de los datos del volante en un histograma transformamos la variable a factor y luego a integer. "
      ],
      "metadata": {
        "id": "yZgnZ-rP_kxS"
      }
    },
    {
      "cell_type": "code",
      "source": [
        "%%R\n",
        "val_fact = factor(dataset2$Wheel)\n",
        "df <- unclass(val_fact)\n",
        "dataset2$Wheel = as.integer(df)\n",
        "hist(dataset2$Wheel)\n",
        "\n"
      ],
      "metadata": {
        "colab": {
          "base_uri": "https://localhost:8080/",
          "height": 497
        },
        "id": "260WHa0Yw0c_",
        "outputId": "47eb0526-0845-4b10-a7a2-ed407543bb3f"
      },
      "execution_count": 663,
      "outputs": [
        {
          "output_type": "display_data",
          "data": {
            "image/png": "[encoded data removed]"
          },
          "metadata": {}
        }
      ]
    },
    {
      "cell_type": "markdown",
      "source": [
        "Hay muy pocos volantes a la derecha luego consideramos quitar la columna porque no aporta mucha información, antes de quitarla hay que esperar a confirmar que este atributo no tiene correlación con el Precio."
      ],
      "metadata": {
        "id": "U4Z9fwOW_vyu"
      }
    },
    {
      "cell_type": "code",
      "source": [
        "%%R\n",
        "val_fact = factor(dataset2$Doors)\n",
        "df <- unclass(val_fact)\n",
        "dataset2$Doors = as.integer(df)\n",
        "hist(dataset2$Doors)\n"
      ],
      "metadata": {
        "colab": {
          "base_uri": "https://localhost:8080/",
          "height": 497
        },
        "id": "9YUwjCAfFg_A",
        "outputId": "327edaa4-94e7-4640-ec00-f551b0ad632c"
      },
      "execution_count": 664,
      "outputs": [
        {
          "output_type": "display_data",
          "data": {
            "image/png": "[encoded data removed]"
          },
          "metadata": {}
        }
      ]
    },
    {
      "cell_type": "markdown",
      "source": [
        "Lo mismo ocurre con las puertas la gran mayoria tiene 4 puertas, luego no aportan mucha información distinctiva para el precio. Hay que investigar más. "
      ],
      "metadata": {
        "id": "DXNLRmzb_8jy"
      }
    },
    {
      "cell_type": "markdown",
      "source": [
        "# Tratamiento de valor nulos en las columnas \n",
        "\n"
      ],
      "metadata": {
        "id": "JV2VsDi5Fw_4"
      }
    },
    {
      "cell_type": "markdown",
      "source": [
        "Vemos que hay una gran cantidad de valores nulos en el dataset"
      ],
      "metadata": {
        "id": "_bK1WtgUARc8"
      }
    },
    {
      "cell_type": "code",
      "source": [
        "%%R\n",
        "sum(is.na(dfMedidas))"
      ],
      "metadata": {
        "colab": {
          "base_uri": "https://localhost:8080/"
        },
        "id": "Ev9MiTWUF2G1",
        "outputId": "a5781bcc-a2a1-4391-84f1-9eff689407c7"
      },
      "execution_count": 665,
      "outputs": [
        {
          "output_type": "stream",
          "name": "stdout",
          "text": [
            "[1] 5575\n"
          ]
        }
      ]
    },
    {
      "cell_type": "code",
      "source": [
        "%%R\n",
        "colnames(dfMedidas)"
      ],
      "metadata": {
        "colab": {
          "base_uri": "https://localhost:8080/"
        },
        "id": "TJaB86ZTHAgq",
        "outputId": "12f17a7c-917e-46c1-987b-cd3eb978bbc7"
      },
      "execution_count": 666,
      "outputs": [
        {
          "output_type": "stream",
          "name": "stdout",
          "text": [
            " [1] \"Price\"            \"Levy\"             \"Manufacturer\"     \"Model\"           \n",
            " [5] \"Prod..year\"       \"Category\"         \"Leather.interior\" \"Fuel.type\"       \n",
            " [9] \"Engine.volume\"    \"Mileage\"          \"Cylinders\"        \"Gear.box.type\"   \n",
            "[13] \"Drive.wheels\"     \"Doors\"            \"Wheel\"            \"Color\"           \n",
            "[17] \"Airbags\"         \n"
          ]
        }
      ]
    },
    {
      "cell_type": "markdown",
      "source": [
        "Localizando donde se encuentran estos valores, vemos que todos están en la misma columna, La de Levy. "
      ],
      "metadata": {
        "id": "wsv_gKbDAXyT"
      }
    },
    {
      "cell_type": "code",
      "source": [
        "%%R \n",
        "sum(is.na(dfMedidas$Levy))"
      ],
      "metadata": {
        "colab": {
          "base_uri": "https://localhost:8080/"
        },
        "id": "DdbEihlWG9BB",
        "outputId": "316c82d2-70d9-47e6-ca49-9d620cd36497"
      },
      "execution_count": 667,
      "outputs": [
        {
          "output_type": "stream",
          "name": "stdout",
          "text": [
            "[1] 5575\n"
          ]
        }
      ]
    },
    {
      "cell_type": "code",
      "source": [
        "%%R\n",
        "nrow(dfMedidas)"
      ],
      "metadata": {
        "colab": {
          "base_uri": "https://localhost:8080/"
        },
        "id": "UdL8O8d9EMfx",
        "outputId": "a2784a28-7e27-4390-c38f-4b63b38dbfcc"
      },
      "execution_count": 668,
      "outputs": [
        {
          "output_type": "stream",
          "name": "stdout",
          "text": [
            "[1] 18864\n"
          ]
        }
      ]
    },
    {
      "cell_type": "markdown",
      "source": [
        "Nos desacemos de una enorme cantidad de datos duplicados ( al rededor de 3500 datos estan duplicados) "
      ],
      "metadata": {
        "id": "S4C7wRMgEn17"
      }
    },
    {
      "cell_type": "code",
      "source": [
        "%%R\n",
        "dfMedidas <- dfMedidas[!duplicated(dfMedidas),]\n",
        "nrow(dfMedidas) "
      ],
      "metadata": {
        "colab": {
          "base_uri": "https://localhost:8080/"
        },
        "id": "L6OUiCZeDUlD",
        "outputId": "832abe59-5566-4f9c-d2ec-5cf211c8bfdf"
      },
      "execution_count": 669,
      "outputs": [
        {
          "output_type": "stream",
          "name": "stdout",
          "text": [
            "[1] 15383\n"
          ]
        }
      ]
    },
    {
      "cell_type": "markdown",
      "source": [
        "Todos los valores nulos se encuentran en Levy. Vamos a eliminar esta columna puesto que no podemos asignar un valor a cada celda ya que \n",
        "ya que perjudicaría en la busqueda del modelo final predictivo. De todas formas, antes de eliminar vamos  a ver la correlación con el precio. "
      ],
      "metadata": {
        "id": "xm7rQQfJAh-E"
      }
    },
    {
      "cell_type": "markdown",
      "source": [
        "#Representación de los Datos respecto a la variable Precio"
      ],
      "metadata": {
        "id": "o9ZPf4oz-O69"
      }
    },
    {
      "cell_type": "markdown",
      "source": [
        "Usamos distintas gráficas de la librería ggplot2 para representar cada atributo con respecto al Precio. "
      ],
      "metadata": {
        "id": "puZ-IdtyApet"
      }
    },
    {
      "cell_type": "code",
      "source": [
        "%%R\n",
        "library(ggplot2)\n",
        "ggplot(dfMedidas, aes(x = Price, y = Prod..year)) + geom_point(size=0.3) + theme_bw()"
      ],
      "metadata": {
        "colab": {
          "base_uri": "https://localhost:8080/",
          "height": 497
        },
        "id": "Bo9o3uSb-Zxm",
        "outputId": "652abc41-9fbd-4b54-ae98-caba5a292550"
      },
      "execution_count": 670,
      "outputs": [
        {
          "output_type": "display_data",
          "data": {
            "image/png": "[encoded data removed]"
          },
          "metadata": {}
        }
      ]
    },
    {
      "cell_type": "markdown",
      "source": [
        "Con esta gráfica vemos el comportamiento del precio a lo largo de los años de producción, claramente a partir de 1990 hay una curva exponencial del aumento tanto de coches como de precio. "
      ],
      "metadata": {
        "id": "ecEyo-1mA0o8"
      }
    },
    {
      "cell_type": "code",
      "source": [
        "%%R\n",
        "library(ggplot2)\n",
        "ggplot(dfMedidas, aes(x = Price, y = Cylinders)) + geom_point(size=0.3) + theme_bw()"
      ],
      "metadata": {
        "colab": {
          "base_uri": "https://localhost:8080/",
          "height": 497
        },
        "id": "DfoQTnF_-jpg",
        "outputId": "4ee21cb1-8078-4736-d1ad-970ce0408521"
      },
      "execution_count": 671,
      "outputs": [
        {
          "output_type": "display_data",
          "data": {
            "image/png": "[encoded data removed]"
          },
          "metadata": {}
        }
      ]
    },
    {
      "cell_type": "markdown",
      "source": [
        "Vemos que la mayoría de coches tienen 4, 6 o 8 cilindros. \n",
        "Estos tambíen tienen un rango de precio más grande que el resto. \n"
      ],
      "metadata": {
        "id": "LbjwBPyYPsFe"
      }
    },
    {
      "cell_type": "code",
      "source": [
        "%%R\n",
        "library(ggplot2)\n",
        "ggplot(dfMedidas, aes(x = Price, y = Manufacturer)) + geom_point(size=0.3) + theme_bw()"
      ],
      "metadata": {
        "colab": {
          "base_uri": "https://localhost:8080/",
          "height": 497
        },
        "id": "iTrVGTmB-wZY",
        "outputId": "5c4c6b57-c92b-4f39-c0d8-d44e45c86572"
      },
      "execution_count": 672,
      "outputs": [
        {
          "output_type": "display_data",
          "data": {
            "image/png": "[encoded data removed]"
          },
          "metadata": {}
        }
      ]
    },
    {
      "cell_type": "markdown",
      "source": [
        "Hay alrededor de 63 fabricantes distintos. Destacan como principales fabricantes en cuanto a cantidad de coches y precio: Toyota, Hyundai, BMW, Mercedes y Honda. "
      ],
      "metadata": {
        "id": "U-kRmljLP9P7"
      }
    },
    {
      "cell_type": "code",
      "source": [
        "%%R\n",
        "library(ggplot2)\n",
        "ggplot(dfMedidas, aes(x = Price, y = Fuel.type)) + geom_point(size=0.3) + theme_bw()"
      ],
      "metadata": {
        "colab": {
          "base_uri": "https://localhost:8080/",
          "height": 497
        },
        "id": "PEQ1LB9y-p51",
        "outputId": "d69c75a1-7573-4444-ca75-e13561bace28"
      },
      "execution_count": 673,
      "outputs": [
        {
          "output_type": "display_data",
          "data": {
            "image/png": "[encoded data removed]"
          },
          "metadata": {}
        }
      ]
    },
    {
      "cell_type": "markdown",
      "source": [
        "El tipo de combustible. \n",
        "Hay un solo coche que usa Hidrogeno. \n",
        "La Gasolina y el Diesel predominan en cantidades y precio. Diría basandome en la gráfica que los coches con gasolina pueden llegar a ser más caros que los de Diesel. "
      ],
      "metadata": {
        "id": "W3tqJAZQQnXO"
      }
    },
    {
      "cell_type": "code",
      "source": [
        "%%R\n",
        "library(ggplot2)\n",
        "ggplot(dfMedidas, aes(x = Price, y = Category)) + geom_point(size=0.3) + theme_bw()"
      ],
      "metadata": {
        "colab": {
          "base_uri": "https://localhost:8080/",
          "height": 497
        },
        "id": "b-qNWmTiREH-",
        "outputId": "352e4b89-4be7-4ce3-a847-6cbacb3a3f37"
      },
      "execution_count": 674,
      "outputs": [
        {
          "output_type": "display_data",
          "data": {
            "image/png": "[encoded data removed]"
          },
          "metadata": {}
        }
      ]
    },
    {
      "cell_type": "markdown",
      "source": [
        "Vemos que la mayoría de coches estan entre la categoría de Jeep y Sedan. Hay poquitas limusinas, y posiblemente bastantes Hatchback. "
      ],
      "metadata": {
        "id": "5VtmMTkrRR6y"
      }
    },
    {
      "cell_type": "code",
      "source": [
        "%%R\n",
        "library(ggplot2)\n",
        "ggplot(dfMedidas, aes(x = Price, y = Engine.volume)) + geom_point(size=0.3) + theme_bw()"
      ],
      "metadata": {
        "colab": {
          "base_uri": "https://localhost:8080/",
          "height": 497
        },
        "id": "OEGrw1lTRqHY",
        "outputId": "c727c0d9-c54e-4557-dbae-9ab6846c846d"
      },
      "execution_count": 675,
      "outputs": [
        {
          "output_type": "display_data",
          "data": {
            "image/png": "[encoded data removed]"
          },
          "metadata": {}
        }
      ]
    },
    {
      "cell_type": "markdown",
      "source": [
        "Rango alto de tipos de volumenes del motor. Predomina el 2.0 con Turbo. La mayoría de datos esta comprendida entre el 1.3 Turbo y el 3.5 Turbo. "
      ],
      "metadata": {
        "id": "CPVPpKCkR4Gn"
      }
    },
    {
      "cell_type": "code",
      "source": [
        "%%R\n",
        "library(ggplot2)\n",
        "ggplot(dfMedidas, aes(x = Price, y = Mileage)) + geom_point(size=0.3) + theme_bw()"
      ],
      "metadata": {
        "colab": {
          "base_uri": "https://localhost:8080/",
          "height": 497
        },
        "id": "7ANKky4HSHHR",
        "outputId": "7ace6cee-e051-40a0-b4f5-e4717ea377db"
      },
      "execution_count": 676,
      "outputs": [
        {
          "output_type": "display_data",
          "data": {
            "image/png": "[encoded data removed]"
          },
          "metadata": {}
        }
      ]
    },
    {
      "cell_type": "markdown",
      "source": [
        "No se pueden representar bien los kilometros con respecto al precio, de todas formas vemos que hay literalmente de todo tipo de cantidades de kilometros. \n",
        "Se puede ver tambíen que la mayoría de coches esta comprendida entre los 0 y los 40 000 euros. "
      ],
      "metadata": {
        "id": "TG0vwV4dSM_K"
      }
    },
    {
      "cell_type": "code",
      "source": [
        "%%R\n",
        "library(ggplot2)\n",
        "ggplot(dfMedidas, aes(x = Price, y = Gear.box.type)) + geom_point(size=0.3) + theme_bw()"
      ],
      "metadata": {
        "colab": {
          "base_uri": "https://localhost:8080/",
          "height": 497
        },
        "id": "I3OIEgpcSpID",
        "outputId": "fcd6a6ad-ca6a-477c-92c3-68a44c34d1c2"
      },
      "execution_count": 677,
      "outputs": [
        {
          "output_type": "display_data",
          "data": {
            "image/png": "[encoded data removed]"
          },
          "metadata": {}
        }
      ]
    },
    {
      "cell_type": "markdown",
      "source": [
        "Con esto vemos los cuatro tipos de coches, siendo el dominante el coche Automático. "
      ],
      "metadata": {
        "id": "FvYFyvY3SvOT"
      }
    },
    {
      "cell_type": "code",
      "source": [
        "%%R\n",
        "library(ggplot2)\n",
        "ggplot(dfMedidas, aes(x = Price, y = Color)) + geom_point(size=0.3) + theme_bw()"
      ],
      "metadata": {
        "colab": {
          "base_uri": "https://localhost:8080/",
          "height": 497
        },
        "id": "PNk31ZUNS_Z0",
        "outputId": "0ead9609-8cca-41b4-9c6a-45e009f447d7"
      },
      "execution_count": 678,
      "outputs": [
        {
          "output_type": "display_data",
          "data": {
            "image/png": "[encoded data removed]"
          },
          "metadata": {}
        }
      ]
    },
    {
      "cell_type": "markdown",
      "source": [
        "Podemos ver los distintos tipos de colores de coches. No tiene pinta que afecte mucho al precio. "
      ],
      "metadata": {
        "id": "Hfom2-rtTGdU"
      }
    },
    {
      "cell_type": "markdown",
      "metadata": {
        "id": "B1cKQMIS26xr"
      },
      "source": [
        "# Estudio de Correlación. \n"
      ]
    },
    {
      "cell_type": "markdown",
      "metadata": {
        "id": "91MoW1q72Ita"
      },
      "source": [
        "Ahora hay que estudiar la correlación de las variables con el precio para ver si hay posibles variables redundantes e irrelevantes/relevantes.\n"
      ]
    },
    {
      "cell_type": "code",
      "execution_count": 679,
      "metadata": {
        "id": "u5gribkIPaMt",
        "colab": {
          "base_uri": "https://localhost:8080/"
        },
        "outputId": "af975290-af4e-4f5a-b76d-b368edad656f"
      },
      "outputs": [
        {
          "output_type": "stream",
          "name": "stdout",
          "text": [
            "\n",
            "Two-Step Estimates\n",
            "\n",
            "Correlations/Type of Correlation:\n",
            "                dfMedidas$Price dfMedidas.Levy\n",
            "dfMedidas$Price               1        Pearson\n",
            "dfMedidas.Levy         -0.01325              1\n",
            "\n",
            "Standard Errors:\n",
            "[1] \"\"        \"0.01004\"\n",
            "\n",
            "n = 9924 \n",
            "\n",
            "P-values for Tests of Bivariate Normality:\n",
            "[1] \"\"  \"0\"\n"
          ]
        }
      ],
      "source": [
        "%%R\n",
        "if (!require(\"mvtnorm\", lib.loc = lib_loc)) install.packages(\"mvtnorm\", lib = lib_loc)\n",
        "if (!require(\"polycor\", lib.loc = lib_loc)) install.packages(\"polycor\", lib = lib_loc)\n",
        "library(polycor, lib.loc = lib_loc)\n",
        "\n",
        "correl <- hetcor(dfMedidas$Price,dfMedidas$Levy, ML = FALSE, std.err = TRUE, \n",
        "use=c(\"complete.obs\", \"pairwise.complete.obs\"), \n",
        "bins=4, pd=TRUE, parallel=True, ncores=detectCores(logical=FALSE),\n",
        "thresholds=FALSE)\n",
        "correl\n",
        "\n"
      ]
    },
    {
      "cell_type": "markdown",
      "source": [
        "Correlación bajisima, luego despues de nuestras conclusiones por la gran cantidad de valores NA en las celdas, quitamos el atributo Levy del conjunto de datos "
      ],
      "metadata": {
        "id": "gASj_Qs8T-bu"
      }
    },
    {
      "cell_type": "code",
      "source": [
        "%%R\n",
        "dfMedidas <- dfMedidas[,!names(dfMedidas) %in% c(\"Levy\")]\n"
      ],
      "metadata": {
        "id": "lUYF3ugMIAiO"
      },
      "execution_count": 680,
      "outputs": []
    },
    {
      "cell_type": "markdown",
      "source": [
        "Primero evaluamos la correlación de las variables númericas "
      ],
      "metadata": {
        "id": "QvtyOrgkUMJ7"
      }
    },
    {
      "cell_type": "code",
      "source": [
        "%%R\n",
        "if (!require(\"mvtnorm\", lib.loc = lib_loc)) install.packages(\"mvtnorm\", lib = lib_loc)\n",
        "if (!require(\"polycor\", lib.loc = lib_loc)) install.packages(\"polycor\", lib = lib_loc)\n",
        "library(polycor, lib.loc = lib_loc)\n",
        "\n",
        "correl <- hetcor(dfMedidas$Price,dfMedidas$Cylinders, ML = FALSE, std.err = TRUE, \n",
        "use=c(\"complete.obs\", \"pairwise.complete.obs\"), \n",
        "bins=4, pd=TRUE, parallel=True, ncores=detectCores(logical=FALSE),\n",
        "thresholds=FALSE)\n",
        "correl"
      ],
      "metadata": {
        "colab": {
          "base_uri": "https://localhost:8080/"
        },
        "id": "2XDw2pQ78ykE",
        "outputId": "e584aceb-5e78-4074-9da7-a4061a99fb0b"
      },
      "execution_count": 681,
      "outputs": [
        {
          "output_type": "stream",
          "name": "stdout",
          "text": [
            "\n",
            "Two-Step Estimates\n",
            "\n",
            "Correlations/Type of Correlation:\n",
            "                    dfMedidas$Price dfMedidas.Cylinders\n",
            "dfMedidas$Price                   1             Pearson\n",
            "dfMedidas.Cylinders         0.06419                   1\n",
            "\n",
            "Standard Errors:\n",
            "[1] \"\"        \"0.00803\"\n",
            "\n",
            "n = 15383 \n",
            "\n",
            "P-values for Tests of Bivariate Normality:\n",
            "[1] \"\"  \"0\"\n"
          ]
        }
      ]
    },
    {
      "cell_type": "markdown",
      "source": [
        "El precio no parece correlar con los cilindros. "
      ],
      "metadata": {
        "id": "55-kDHxwUhQ2"
      }
    },
    {
      "cell_type": "code",
      "source": [
        "%%R\n",
        "if (!require(\"mvtnorm\", lib.loc = lib_loc)) install.packages(\"mvtnorm\", lib = lib_loc)\n",
        "if (!require(\"polycor\", lib.loc = lib_loc)) install.packages(\"polycor\", lib = lib_loc)\n",
        "library(polycor, lib.loc = lib_loc)\n",
        "\n",
        "correl <- hetcor(dfMedidas$Price,dfMedidas$Mileage, ML = FALSE, std.err = TRUE, \n",
        "use=c(\"complete.obs\", \"pairwise.complete.obs\"), \n",
        "bins=4, pd=TRUE, parallel=True, ncores=detectCores(logical=FALSE),\n",
        "thresholds=FALSE)\n",
        "correl"
      ],
      "metadata": {
        "colab": {
          "base_uri": "https://localhost:8080/"
        },
        "id": "d5uYvmJYDQOC",
        "outputId": "1bb2e6be-c4c7-4089-d5f1-9e2479e9a397"
      },
      "execution_count": 682,
      "outputs": [
        {
          "output_type": "stream",
          "name": "stdout",
          "text": [
            "\n",
            "Two-Step Estimates\n",
            "\n",
            "Correlations/Type of Correlation:\n",
            "                  dfMedidas$Price dfMedidas.Mileage\n",
            "dfMedidas$Price                 1           Pearson\n",
            "dfMedidas.Mileage        -0.02106                 1\n",
            "\n",
            "Standard Errors:\n",
            "[1] \"\"         \"0.008059\"\n",
            "\n",
            "n = 15383 \n",
            "\n",
            "P-values for Tests of Bivariate Normality:\n",
            "[1] \"\"  \"0\"\n"
          ]
        }
      ]
    },
    {
      "cell_type": "code",
      "source": [
        "%%R\n",
        "if (!require(\"mvtnorm\", lib.loc = lib_loc)) install.packages(\"mvtnorm\", lib = lib_loc)\n",
        "if (!require(\"polycor\", lib.loc = lib_loc)) install.packages(\"polycor\", lib = lib_loc)\n",
        "library(polycor, lib.loc = lib_loc)\n",
        "\n",
        "correl <- hetcor(dfMedidas$Price,dfMedidas$Airbags, ML = FALSE, std.err = TRUE, \n",
        "use=c(\"complete.obs\", \"pairwise.complete.obs\"), \n",
        "bins=4, pd=TRUE, parallel=True, ncores=detectCores(logical=FALSE),\n",
        "thresholds=FALSE)\n",
        "correl"
      ],
      "metadata": {
        "colab": {
          "base_uri": "https://localhost:8080/"
        },
        "id": "AkbmfQx6DVhM",
        "outputId": "b247b54d-186d-43c0-e6e6-75760a279836"
      },
      "execution_count": 683,
      "outputs": [
        {
          "output_type": "stream",
          "name": "stdout",
          "text": [
            "\n",
            "Two-Step Estimates\n",
            "\n",
            "Correlations/Type of Correlation:\n",
            "                  dfMedidas$Price dfMedidas.Airbags\n",
            "dfMedidas$Price                 1           Pearson\n",
            "dfMedidas.Airbags        -0.02268                 1\n",
            "\n",
            "Standard Errors:\n",
            "[1] \"\"         \"0.008059\"\n",
            "\n",
            "n = 15383 \n",
            "\n",
            "P-values for Tests of Bivariate Normality:\n",
            "[1] \"\"  \"0\"\n"
          ]
        }
      ]
    },
    {
      "cell_type": "markdown",
      "source": [
        "Tampoco correla con la cantdiad de airbags o los kilometros de los vehículos. EL resultado del test Pearson es muy pequeño en ambos casos. "
      ],
      "metadata": {
        "id": "p0fZR0CkUmd7"
      }
    },
    {
      "cell_type": "code",
      "source": [
        "%%R\n",
        "#Analisis de correlación polyserial. \n",
        "if (!require(\"mvtnorm\", lib.loc = lib_loc)) install.packages(\"mvtnorm\", lib = lib_loc)\n",
        "if (!require(\"polycor\", lib.loc = lib_loc)) install.packages(\"polycor\", lib = lib_loc)\n",
        "library(polycor, lib.loc = lib_loc)\n",
        "\n",
        "print(polyserial(dfMedidas$Price, dfMedidas$Category))\n",
        "print(polyserial(dfMedidas$Price, dfMedidas$Doors))\n",
        "print(polyserial(dfMedidas$Price, dfMedidas$Wheel))\n",
        "print(polyserial(dfMedidas$Price, dfMedidas$Color))\n",
        "print(polyserial(dfMedidas$Price, dfMedidas$Manufacturer))\n",
        "print(polyserial(dfMedidas$Price, dfMedidas$Model))\n",
        "print(polyserial(dfMedidas$Price, dfMedidas$Leather.interior))\n",
        "print(polyserial(dfMedidas$Price, dfMedidas$Fuel.type))\n",
        "print(polyserial(dfMedidas$Price, dfMedidas$Engine.volume))\n",
        "print(polyserial(dfMedidas$Price, dfMedidas$Gear.box.type))\n",
        "\n"
      ],
      "metadata": {
        "colab": {
          "base_uri": "https://localhost:8080/"
        },
        "id": "5BEY4V3WDkUi",
        "outputId": "ed963153-fcf6-41a7-aaef-114d1c3d60ef"
      },
      "execution_count": 684,
      "outputs": [
        {
          "output_type": "stream",
          "name": "stdout",
          "text": [
            "[1] -0.1045056\n",
            "[1] 0.05569166\n",
            "[1] -0.3055794\n",
            "[1] -0.02265408\n",
            "[1] -0.06041948\n",
            "[1] 0.08977536\n",
            "[1] 0.2479025\n",
            "[1] -0.1236843\n",
            "[1] 0.1486523\n",
            "[1] 0.08983204\n"
          ]
        }
      ]
    },
    {
      "cell_type": "markdown",
      "source": [
        "Claramente no hay una relación lineal entre ningún atributo. El indice de correlación de todos los atributos con respecto de el atributo objetivo Precio estan muy cercanos a 0, excepto el atributo de Wheel que tiene una relación inversa algo superior al resto de variables. \n",
        "\n",
        "Esto indica que claramente no hay una relación lineal entre los atributos. Es decir, descartamos la opción de un modelo de regresión lineal. Vamos a tener que probar con modelos de regresión no lineal.\n"
      ],
      "metadata": {
        "id": "uhiG_UqYU2Z-"
      }
    },
    {
      "cell_type": "markdown",
      "source": [
        "Hemos visto anteriormente que los atributos que indican el número de puertas, el tipo de volante y el color del vehículo no aportan mucha información. Ademas, despues de realizar el test de correlación con respecto del precio y ver que los resultados indican que no tienen ningún tipo de relación con el precio, eliminamos Doors y Color. Ya que Wheels parece tener algun tipo de relación. \n",
        "\n"
      ],
      "metadata": {
        "id": "QwqlWbUcVVtt"
      }
    },
    {
      "cell_type": "code",
      "source": [
        "%%R\n",
        "dfMedidas <- dfMedidas[,!names(dfMedidas) %in% c(\"Doors\",\"Color\")]"
      ],
      "metadata": {
        "id": "CePZkhnbzIiD"
      },
      "execution_count": 685,
      "outputs": []
    },
    {
      "cell_type": "markdown",
      "source": [
        "#PCA\n",
        "Encontrar entre los atributos numericos, los más relevantes. \n",
        "Para describirlos mejor. "
      ],
      "metadata": {
        "id": "SCndmxDr8Id9"
      }
    },
    {
      "cell_type": "code",
      "source": [
        "%%R\n",
        "dfMedidas$Manufacturer <- as.numeric(dfMedidas$Manufacturer)\n",
        "dfMedidas$Engine.volume <- as.numeric(dfMedidas$Engine.volume)\n",
        "dfMedidas$Model <- as.numeric(dfMedidas$Model)\n",
        "dfMedidas$Category <- as.numeric(dfMedidas$Category)\n",
        "dfMedidas$Fuel.type <- as.numeric(dfMedidas$Fuel.type)\n",
        "dfMedidas$Leather.interior <- as.numeric(dfMedidas$Leather.interior)\n",
        "dfMedidas$Gear.box.type <- as.numeric(dfMedidas$Gear.box.type)\n",
        "dfMedidas$Drive.wheels <- as.numeric(dfMedidas$Drive.wheels)\n",
        "dfMedidas$Wheel <- as.numeric(dfMedidas$Wheel)"
      ],
      "metadata": {
        "id": "TvcWsDW0-TZv"
      },
      "execution_count": 686,
      "outputs": []
    },
    {
      "cell_type": "markdown",
      "source": [
        "Pasamos todos los atributos a númericos para poder usarlos. "
      ],
      "metadata": {
        "id": "_zslVk2LCNfP"
      }
    },
    {
      "cell_type": "code",
      "source": [
        "%%R\n",
        "head(dfMedidas)"
      ],
      "metadata": {
        "colab": {
          "base_uri": "https://localhost:8080/"
        },
        "id": "3N9uPQr28dK4",
        "outputId": "67fa7fe3-2367-4b7e-b625-4b00eeceb554"
      },
      "execution_count": 687,
      "outputs": [
        {
          "output_type": "stream",
          "name": "stdout",
          "text": [
            "  Price Manufacturer Model Prod..year Category Leather.interior Fuel.type\n",
            "1 13328           33  1271       2010        5                2         3\n",
            "2 16621            9   654       2011        5                1         6\n",
            "3  8467           22   690       2006        4                1         6\n",
            "4  3607           17   660       2011        5                2         3\n",
            "5 11726           22   690       2014        4                2         6\n",
            "6 39493           24  1305       2016        5                2         2\n",
            "  Engine.volume Mileage Cylinders Gear.box.type Drive.wheels Wheel Airbags\n",
            "1            64  186005         6             1            1     1      12\n",
            "2            57  192000         6             3            1     1       8\n",
            "3            23  200000         4             4            2     2       2\n",
            "4            47  168966         4             1            1     1       0\n",
            "5            23   91901         4             1            2     1       4\n",
            "6            37  160931         4             1            2     1       4\n"
          ]
        }
      ]
    },
    {
      "cell_type": "markdown",
      "source": [
        "Metemos los atributos que queremos evaluar"
      ],
      "metadata": {
        "id": "xpWUdbdShX5H"
      }
    },
    {
      "cell_type": "code",
      "source": [
        "%%R\n",
        "atributos <- c(\"Price\",\"Prod..year\",\"Mileage\",\"Cylinders\",\"Airbags\")"
      ],
      "metadata": {
        "id": "F2xAKnG0iO_U"
      },
      "execution_count": 688,
      "outputs": []
    },
    {
      "cell_type": "code",
      "source": [
        "%%R\n",
        "if (!require(\"ggpubr\", lib.loc = lib_loc)) install.packages(\"ggpubr\", lib = lib_loc)\n",
        "if (!require(\"ggsci\", lib.loc = lib_loc)) install.packages(\"ggsci\", lib = lib_loc)\n",
        "if (!require(\"dendextend\", lib.loc = lib_loc)) install.packages(\"dendextend\", lib = lib_loc)\n",
        "if (!require(\"factoextra\", lib.loc = lib_loc)) install.packages(\"factoextra\", lib = lib_loc)\n",
        "if (!require(\"FactoMineR\", lib.loc = lib_loc)) install.packages(\"FactoMineR\", lib = lib_loc)\n",
        "library(factoextra, lib.loc = lib_loc)\n",
        "library(FactoMineR, lib.loc = lib_loc)\n",
        "\n",
        "res.pca <- prcomp(dfMedidas[,atributos], scale = TRUE) \n",
        "summary(res.pca)"
      ],
      "metadata": {
        "colab": {
          "base_uri": "https://localhost:8080/"
        },
        "id": "M5NV7net-b_c",
        "outputId": "a02c42e8-4e00-427a-f9f8-2ee31b053482"
      },
      "execution_count": 689,
      "outputs": [
        {
          "output_type": "stream",
          "name": "stdout",
          "text": [
            "Importance of components:\n",
            "                          PC1    PC2    PC3    PC4     PC5\n",
            "Standard deviation     1.2053 1.0911 0.9965 0.9664 0.65560\n",
            "Proportion of Variance 0.2905 0.2381 0.1986 0.1868 0.08596\n",
            "Cumulative Proportion  0.2905 0.5286 0.7272 0.9140 1.00000\n"
          ]
        }
      ]
    },
    {
      "cell_type": "markdown",
      "source": [
        "Obtenemos los porcentajes de los componentes principales"
      ],
      "metadata": {
        "id": "014DI7Mmhd1u"
      }
    },
    {
      "cell_type": "code",
      "source": [
        "%%R\n",
        "fviz_screeplot(res.pca, addlabels = TRUE)"
      ],
      "metadata": {
        "colab": {
          "base_uri": "https://localhost:8080/",
          "height": 497
        },
        "id": "GPm8PN5ZPLr6",
        "outputId": "d245ab34-3713-4c44-a466-a4e71cc546cd"
      },
      "execution_count": 690,
      "outputs": [
        {
          "output_type": "display_data",
          "data": {
            "image/png": "[encoded data removed]"
          },
          "metadata": {}
        }
      ]
    },
    {
      "cell_type": "code",
      "source": [
        "%%R\n",
        "fviz_pca_var(res.pca)"
      ],
      "metadata": {
        "colab": {
          "base_uri": "https://localhost:8080/",
          "height": 497
        },
        "id": "cYEBvXh_Pd5k",
        "outputId": "a9997741-79d4-4b1d-aa7d-c59454782603"
      },
      "execution_count": 691,
      "outputs": [
        {
          "output_type": "display_data",
          "data": {
            "image/png": "[encoded data removed]"
          },
          "metadata": {}
        }
      ]
    },
    {
      "cell_type": "markdown",
      "source": [
        "Aqui vemos lo que ocurre un 50% de las veces. Podemos observar primero que los airbags no tienen ningún tipo de relación con el precio al ser el angulo de 90º. \n",
        "\n",
        "Se puede ver tambíen que hay una estrecha relación entre el año de producción y el precio. \n",
        "\n",
        "Hay una posible relación inversa entre el Precio y los kilometros, cuanto mayor sea el número de kilometros menor es el precio ¿? \n",
        "\n",
        "La situación del volante y los cilindros del vehículo se relacionan poco con el precio. \n",
        "\n"
      ],
      "metadata": {
        "id": "43iLtgqd76n8"
      }
    },
    {
      "cell_type": "markdown",
      "source": [
        "Elegimos eliminar los Airbags del conjunto de atributos. "
      ],
      "metadata": {
        "id": "D2hOqnH5jCfY"
      }
    },
    {
      "cell_type": "code",
      "source": [
        "%%R\n",
        "dfMedidas <- dfMedidas[,!names(dfMedidas) %in% c(\"Airbags\")]"
      ],
      "metadata": {
        "id": "b70MSSzVjGR6"
      },
      "execution_count": 692,
      "outputs": []
    },
    {
      "cell_type": "markdown",
      "source": [
        "Vamos a estudiar todo el conjunto de atributos pasados a númericos. Para ver si podemos describir el conjunto de datos mejor. "
      ],
      "metadata": {
        "id": "fwjasLnGjNvw"
      }
    },
    {
      "cell_type": "code",
      "source": [
        "%%R\n",
        "atributos <- c(\"Price\",\"Manufacturer\",\"Model\",\"Mileage\",\"Prod..year\",\"Category\",\"Fuel.type\",\"Engine.volume\",\"Mileage\",\"Cylinders\",\"Gear.box.type\")"
      ],
      "metadata": {
        "id": "a7ZpS3nWOrVh"
      },
      "execution_count": 693,
      "outputs": []
    },
    {
      "cell_type": "code",
      "source": [
        "%%R\n",
        "if (!require(\"ggpubr\", lib.loc = lib_loc)) install.packages(\"ggpubr\", lib = lib_loc)\n",
        "if (!require(\"ggsci\", lib.loc = lib_loc)) install.packages(\"ggsci\", lib = lib_loc)\n",
        "if (!require(\"dendextend\", lib.loc = lib_loc)) install.packages(\"dendextend\", lib = lib_loc)\n",
        "if (!require(\"factoextra\", lib.loc = lib_loc)) install.packages(\"factoextra\", lib = lib_loc)\n",
        "if (!require(\"FactoMineR\", lib.loc = lib_loc)) install.packages(\"FactoMineR\", lib = lib_loc)\n",
        "library(factoextra, lib.loc = lib_loc)\n",
        "library(FactoMineR, lib.loc = lib_loc)\n",
        "\n",
        "res.pca <- prcomp(dfMedidas[,atributos], scale = TRUE) \n",
        "summary(res.pca)"
      ],
      "metadata": {
        "colab": {
          "base_uri": "https://localhost:8080/"
        },
        "id": "7wdub7N6jVaN",
        "outputId": "dfbca2b6-89e5-4a89-d4cc-ed352f3a03b3"
      },
      "execution_count": 694,
      "outputs": [
        {
          "output_type": "stream",
          "name": "stdout",
          "text": [
            "Importance of components:\n",
            "                          PC1    PC2    PC3    PC4     PC5     PC6     PC7\n",
            "Standard deviation     1.4199 1.3586 1.2118 1.1558 1.03094 0.93906 0.91608\n",
            "Proportion of Variance 0.1833 0.1678 0.1335 0.1214 0.09662 0.08017 0.07629\n",
            "Cumulative Proportion  0.1833 0.3511 0.4846 0.6060 0.70264 0.78281 0.85910\n",
            "                           PC8    PC9    PC10     PC11\n",
            "Standard deviation     0.90519 0.6925 0.50094 2.99e-16\n",
            "Proportion of Variance 0.07449 0.0436 0.02281 0.00e+00\n",
            "Cumulative Proportion  0.93359 0.9772 1.00000 1.00e+00\n"
          ]
        }
      ]
    },
    {
      "cell_type": "code",
      "source": [
        "%%R\n",
        "fviz_screeplot(res.pca, addlabels = TRUE)"
      ],
      "metadata": {
        "colab": {
          "base_uri": "https://localhost:8080/",
          "height": 497
        },
        "id": "-_WD9oLrjefg",
        "outputId": "4d9f90df-bc07-4499-e8f0-d37cbcae3dc8"
      },
      "execution_count": 695,
      "outputs": [
        {
          "output_type": "display_data",
          "data": {
            "image/png": "[encoded data removed]"
          },
          "metadata": {}
        }
      ]
    },
    {
      "cell_type": "code",
      "source": [
        "%%R\n",
        "fviz_pca_var(res.pca)"
      ],
      "metadata": {
        "colab": {
          "base_uri": "https://localhost:8080/",
          "height": 497
        },
        "id": "yUS_bpMnjhOZ",
        "outputId": "d2d4de7a-f7ec-4710-c99b-eaf90871e1a8"
      },
      "execution_count": 696,
      "outputs": [
        {
          "output_type": "display_data",
          "data": {
            "image/png": "[encoded data removed]"
          },
          "metadata": {}
        }
      ]
    },
    {
      "cell_type": "markdown",
      "source": [
        "Curiosamente el tamaño del motor y la cantidad de cilindros esta estrechamente relacionada con la componente principal 1\n",
        "\n",
        "y Mileage y Wheel muy relacionados con la componente principal 2. \n",
        "\n"
      ],
      "metadata": {
        "id": "g28jiYVXj_kB"
      }
    },
    {
      "cell_type": "markdown",
      "source": [
        "# Random Forest"
      ],
      "metadata": {
        "id": "gmitMEXGzBsf"
      }
    },
    {
      "cell_type": "code",
      "source": [
        "%%R\n",
        "if (!require(\"FSelectorRcpp\", lib.loc = lib_loc)) install.packages(\"FSelectorRcpp\", lib = lib_loc)\n",
        "library(FSelectorRcpp, lib.loc = lib_loc)\n",
        "formula <- to_formula( c(\"Prod..year\",\"Category\",\"Manufacturer\",\"Engine.volume\",\"Model\",\n",
        "               \"Leather.interior\",\"Fuel.type\",\"Cylinders\",\n",
        "               \"Gear.box.type\",\"Drive.wheels\",\"Wheel\"),\"Price\")"
      ],
      "metadata": {
        "id": "muKrx421sb8H"
      },
      "execution_count": 697,
      "outputs": []
    },
    {
      "cell_type": "code",
      "source": [
        "%%R\n",
        "if (!require(\"randomForest\", lib.loc = lib_loc)) install.packages(\"randomForest\", lib = lib_loc)\n",
        "library(randomForest, lib.loc = lib_loc)\n",
        "\n",
        "#es precavido poner una seed, y hacer varias ejecuciones con distintas semillas y hacer una media. \n",
        "set.seed(1234)\n",
        "modelo.rf <- randomForest(formula, data = dfMedidas, ntree=60,\n",
        "                          keep.forest=FALSE, importance=TRUE)\n",
        "\n",
        "rf_imp <- importance(modelo.rf, importance.type = 1)\n",
        "print(rf_imp)\n"
      ],
      "metadata": {
        "colab": {
          "base_uri": "https://localhost:8080/"
        },
        "id": "OmV0-QhCr0Gu",
        "outputId": "710e6cda-18f5-407c-974e-0c78588e660b"
      },
      "execution_count": 698,
      "outputs": [
        {
          "output_type": "stream",
          "name": "stdout",
          "text": [
            "                   %IncMSE IncNodePurity\n",
            "Prod..year       61.751899  766728027179\n",
            "Category         16.228174  150751855765\n",
            "Manufacturer     31.266546  216673711053\n",
            "Engine.volume    35.830010  367781928504\n",
            "Model            32.856239  374409457576\n",
            "Leather.interior 18.035743   95548373136\n",
            "Fuel.type        29.762882  230431968728\n",
            "Cylinders        21.351893   89296176730\n",
            "Gear.box.type    57.644851  202274618337\n",
            "Drive.wheels     20.473311   85519804548\n",
            "Wheel             8.820245   32702517877\n"
          ]
        }
      ]
    },
    {
      "cell_type": "markdown",
      "source": [
        "Podemos ver que las variables con más peso para predecir el Precio según el random forest son el año de producción y el tipo de coche."
      ],
      "metadata": {
        "id": "2h71sKDskm-O"
      }
    },
    {
      "cell_type": "code",
      "source": [
        "%%R \n",
        "plot(modelo.rf)"
      ],
      "metadata": {
        "id": "Xjs_GyFBicwq",
        "colab": {
          "base_uri": "https://localhost:8080/",
          "height": 497
        },
        "outputId": "c65e2e6b-78c9-40f7-8873-2b5d19fb5a29"
      },
      "execution_count": 699,
      "outputs": [
        {
          "output_type": "display_data",
          "data": {
            "image/png": "[encoded data removed]"
          },
          "metadata": {}
        }
      ]
    },
    {
      "cell_type": "markdown",
      "source": [
        "Nos resulta en un error gigantesco"
      ],
      "metadata": {
        "id": "JxveA9wulFp2"
      }
    },
    {
      "cell_type": "markdown",
      "source": [
        "#Conclusiones"
      ],
      "metadata": {
        "id": "PGylRhYRmYXB"
      }
    },
    {
      "cell_type": "markdown",
      "source": [
        "Puedo afirmar que no hay un modelo de regresión lineal que pueda predecir el precio a partir de los atributos. \n",
        "Tampoco se ha conseguido encontrar un modelo en general que consiga predecir el precio. Los atributos que más importancía le daba nuestro modelo de random forest son el año de producción del coche y el tipo de coche. \n",
        "\n",
        "Puede que realmente no haya un modelo factible para la predicción del precio con estos datos. Pero admito que la parte de modelado le falta peso y por lo tanto no puedo hacer esta conclusión con total seguridad. \n",
        "\n",
        "He dejado de dedicarle tiempo a este dataset para hacer los otros trés."
      ],
      "metadata": {
        "id": "GGekckawmbNf"
      }
    }
  ],
  "metadata": {
    "colab": {
      "provenance": []
    },
    "kernelspec": {
      "display_name": "Python 3",
      "name": "python3"
    },
    "language_info": {
      "name": "python"
    }
  },
  "nbformat": 4,
  "nbformat_minor": 0
}